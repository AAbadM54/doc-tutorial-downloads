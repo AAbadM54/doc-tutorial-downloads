{
 "cells": [
  {
   "cell_type": "markdown",
   "metadata": {},
   "source": [
    "## Sample Data Generation\n",
    "\n",
    "This notebook sends the CARS4U Action training table to the model for scoring, creating enough data in the payload log for the monitors to display in the dashboard."
   ]
  },
  {
   "cell_type": "code",
   "execution_count": null,
   "metadata": {},
   "outputs": [],
   "source": [
    "\n",
    "from ibmdbpy import IdaDataBase, IdaDataFrame\n",
    "\n",
    "# @hidden_cell\n",
    "# This connection object is used to access your data and contains your credentials.\n",
    "# Update the two lines below with your own Db2 instance credentials\n",
    "username = 'DASH***'\n",
    "dsn = 'DASHDB;Database=BLUDB;Hostname=dashdb-entry-yp***;Port=50000;PROTOCOL=TCPIP;UID=dash***;PWD=***'\n",
    "table = username + '.CAR_RENTAL_TRAINING'\n",
    "\n",
    "idadb = IdaDataBase(dsn='DASHDB;' + dsn)\n",
    "\n",
    "data_df = IdaDataFrame(idadb, table).as_dataframe()\n",
    "data_df.head()\n",
    "\n",
    "# You can close the database connection with the following code. Please keep the comment line with the @hidden_cell tag,\n",
    "# because the close function displays parts of the credentials.\n",
    "# @hidden_cell\n",
    "# idadb.close()\n",
    "# To learn more about the ibmdby package, please read the documentation: http://pythonhosted.org/ibmdbpy/\n"
   ]
  },
  {
   "cell_type": "code",
   "execution_count": null,
   "metadata": {
    "collapsed": true
   },
   "outputs": [],
   "source": [
    "import urllib3, requests, json\n",
    "\n",
    "# retrieve your wml_service_credentials_username, wml_service_credentials_password, and wml_service_credentials_url from the\n",
    "# Service credentials associated with your IBM Cloud Watson Machine Learning Service instance\n",
    "\n",
    "wml_credentials = {\n",
    "    \"url\": \"https://us-south.ml.cloud.ibm.com\",\n",
    "    \"username\": \"***\",\n",
    "    \"password\": \"***\"\n",
    "}\n",
    "\n",
    "# retrieve the scoring endpoint url from the Implementation tab of your deployed\n",
    "# CARS4U - Action Model Deployment\n",
    "# It will look something like this:\n",
    "# https://us-south.ml.cloud.ibm.com/v3/wml_instances/a6bqa815-mfrf-4501-a181-7292aad31162/deployments/fba78132-c468-48d5-a4f0-c226d40e453d/online\n",
    "scoring_endpoint = '***'\n",
    "\n",
    "headers = urllib3.util.make_headers(basic_auth='{username}:{password}'.format(username=wml_credentials['username'], password=wml_credentials['password']))\n",
    "url = '{}/v3/identity/token'.format(wml_credentials['url'])\n",
    "response = requests.get(url, headers=headers)\n",
    "mltoken = json.loads(response.text).get('token')\n",
    "\n",
    "header = {'Content-Type': 'application/json', 'Authorization': 'Bearer ' + mltoken}\n",
    "\n",
    "fields = ['ID', 'Gender', 'Status', 'Children', 'Age', 'Customer_Status','Car_Owner', 'Customer_Service', 'Satisfaction', 'Business_Area', 'Action']\n",
    "values = json.loads(data_df.to_json(orient='values'))\n",
    "payload_scoring = {\"fields\": fields, \"values\": values}\n",
    "\n",
    "response_scoring = requests.post(scoring_endpoint, json=payload_scoring, headers=header)\n",
    "print(\"Scoring complete\")"
   ]
  }
 ],
 "metadata": {
  "kernelspec": {
   "display_name": "Python 3.5",
   "name": "python3",
   "language": "python"
  },
  "language_info": {
   "mimetype": "text/x-python",
   "nbconvert_exporter": "python",
   "version": "3.5.5",
   "name": "python",
   "file_extension": ".py",
   "pygments_lexer": "ipython3",
   "codemirror_mode": {
    "version": 3,
    "name": "ipython"
   }
  }
 },
 "nbformat": 4,
 "nbformat_minor": 1
}
